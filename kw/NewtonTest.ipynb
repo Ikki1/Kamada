{
 "cells": [
  {
   "cell_type": "markdown",
   "metadata": {
    "collapsed": true
   },
   "source": [
    "# SciPy Newton-CGのテスト（多変数関数版）\n",
    "\n",
    "多変数関数に対するNewton法のテスト。テスト用の関数はアホみたいに簡単なものをSymPyで表現し、JacobianとHessianをlambdifyしたものをscipyのminimize(method='trust-ncg')で求めています。Trust NCG はNewton共役勾配法をさらに改良した信頼領域法です。\n",
    "\n",
    "たぶん、ほかの最適化手法でも動作します。"
   ]
  },
  {
   "cell_type": "code",
   "execution_count": 1,
   "metadata": {
    "collapsed": false
   },
   "outputs": [],
   "source": [
    "import numpy as np\n",
    "import sympy as sp\n",
    "from sympy.utilities import lambdify\n",
    "from sympy.utilities.lambdify import lambdastr\n",
    "from scipy.optimize import minimize\n",
    "sp.init_printing()\n",
    "from nbsupport import md"
   ]
  },
  {
   "cell_type": "markdown",
   "metadata": {},
   "source": [
    "SymPyとscipy.optimize.minimizeを組み合わせる方法については、[StackOverflowへの回答](http://stackoverflow.com/questions/29443318)を見つけました。とくに多変数関数の場合の引数を渡し方が参考になりました。\n",
    "\n",
    "-----\n",
    "\n",
    "一見、単純そうですが大きな落とし穴があります。[StackOverflow (matrices are not aligned Error)](http://stackoverflow.com/questions/8752169)に助けられました。\n",
    "\n",
    "小さなことなんですが、minimize が期待している Jacobian は行列ではなくベクトルです。つまり shape は $(m, 1)$ ではなく、$(m,)$でなくてはいけないようです。ドキュメントには書かれていないので本当に困りました。2時間くらい無駄にしました。\n",
    "\n",
    "この変換は np.ndarray.flatten を使えばよいようです。"
   ]
  },
  {
   "cell_type": "code",
   "execution_count": 2,
   "metadata": {
    "collapsed": false,
    "scrolled": true
   },
   "outputs": [
    {
     "name": "stdout",
     "output_type": "stream",
     "text": [
      "     fun: 10.0\n",
      "    hess: array([[2, 0, 0],\n",
      "       [0, 2, 0],\n",
      "       [0, 0, 2]])\n",
      "     jac: array([ 0.,  0.,  0.])\n",
      " message: 'Optimization terminated successfully.'\n",
      "    nfev: 5\n",
      "    nhev: 4\n",
      "     nit: 4\n",
      "    njev: 5\n",
      "  status: 0\n",
      " success: True\n",
      "       x: array([ 2.,  4.,  6.])\n"
     ]
    }
   ],
   "source": [
    "from sympy.abc import X, Y, Z\n",
    "\n",
    "ARGS = [X, Y, Z]\n",
    "\n",
    "def Formula(ARGS):\n",
    "    X, Y, Z = ARGS\n",
    "    return (X - 2) **2 + (Y - 4) ** 2 + (Z - 6) ** 2 + 10\n",
    "\n",
    "def derivatives(F, ARGS):\n",
    "    G = sp.Matrix([F]).jacobian(ARGS).T\n",
    "    H = sp.hessian(F, ARGS)\n",
    "    \n",
    "    fs = [lambdify(ARGS, formula) for formula in [F, G, H]]\n",
    "    \n",
    "    return dict(\n",
    "        function=lambda args: fs[0](*args),\n",
    "        gradient=lambda args: fs[1](*args).flatten(), # Caution: gradient(...).shape must be (m,)\n",
    "        hessian=lambda args: fs[2](*args))\n",
    "\n",
    "fgh = derivatives(Formula(ARGS), ARGS) # Function/Gradient/Hessian\n",
    "\n",
    "res = minimize(fgh['function'], np.array([[0, 0, 0]]),\n",
    "               jac=fgh['gradient'], hess=fgh['hessian'],\n",
    "               method='trust-ncg')\n",
    "\n",
    "print(res)"
   ]
  },
  {
   "cell_type": "code",
   "execution_count": 3,
   "metadata": {
    "collapsed": false
   },
   "outputs": [
    {
     "name": "stdout",
     "output_type": "stream",
     "text": [
      "lambda _0,_1: (lambda A,B,C,X,Y,Z: ((-A + X)**2 + (-B + Y)**2 + (-C + Z)**2 + 10))(*list(__flatten_args__([_0,_1])))\n",
      "lambda _0,_1: (lambda A,B,C,X,Y,Z: (MutableDenseMatrix([[-2*A + 2*X], [-2*B + 2*Y], [-2*C + 2*Z]])))(*list(__flatten_args__([_0,_1])))\n",
      "lambda _0,_1: (lambda A,B,C,X,Y,Z: (MutableDenseMatrix([[2, 0, 0], [0, 2, 0], [0, 0, 2]])))(*list(__flatten_args__([_0,_1])))\n",
      "     fun: 10.0\n",
      "    hess: array([[2, 0, 0],\n",
      "       [0, 2, 0],\n",
      "       [0, 0, 2]])\n",
      "     jac: array([ 0.,  0.,  0.])\n",
      " message: 'Optimization terminated successfully.'\n",
      "    nfev: 5\n",
      "    nhev: 4\n",
      "     nit: 4\n",
      "    njev: 5\n",
      "  status: 0\n",
      " success: True\n",
      "       x: array([ 2.,  4.,  6.])\n"
     ]
    }
   ],
   "source": [
    "from sympy.abc import A, B, C, X, Y, Z\n",
    "\n",
    "CONSTS = [A, B, C]\n",
    "VARS = [X, Y, Z]\n",
    "\n",
    "def Formula(ARGS):\n",
    "    (A, B, C), (X, Y, Z) = ARGS\n",
    "    return (X - A) **2 + (Y - B) ** 2 + (Z - C) ** 2 + 10\n",
    "\n",
    "def derivatives(F, VARS):\n",
    "    G = sp.Matrix([F]).jacobian(VARS).T\n",
    "    H = sp.hessian(F, VARS)\n",
    "    \n",
    "    fs = [lambdify((CONSTS, VARS), formula) for formula in [F, G, H]]\n",
    "    \n",
    "    \n",
    "    for formula in [F, G, H]:\n",
    "        print(lambdastr((CONSTS, VARS), formula))\n",
    "\n",
    "    return dict(\n",
    "        function=lambda consts: lambda vars: fs[0](consts, vars),\n",
    "        gradient=lambda consts: lambda vars: fs[1](consts, vars).flatten(), # Caution: gradient(...).shape must be (m,)\n",
    "        hessian=lambda  consts: lambda vars: fs[2](consts, vars))\n",
    "\n",
    "fgh = derivatives(Formula((CONSTS, ARGS)), VARS) # Function/Gradient/Hessian\n",
    "\n",
    "consts = [2, 4, 6]\n",
    "\n",
    "res = minimize(fgh['function'](consts), np.array([[0, 0, 0]]),\n",
    "               jac=fgh['gradient'](consts),\n",
    "               hess=fgh['hessian'](consts),\n",
    "               method='trust-ncg')\n",
    "\n",
    "print(res)"
   ]
  },
  {
   "cell_type": "code",
   "execution_count": 4,
   "metadata": {
    "collapsed": false
   },
   "outputs": [
    {
     "name": "stdout",
     "output_type": "stream",
     "text": [
      "     fun: 1.4791141972893971e-31\n",
      "    hess: array([[6, 2],\n",
      "       [2, 2]])\n",
      "     jac: array([ -4.44089210e-16,   4.44089210e-16])\n",
      " message: 'Optimization terminated successfully.'\n",
      "    nfev: 6\n",
      "    nhev: 5\n",
      "     nit: 5\n",
      "    njev: 6\n",
      "  status: 0\n",
      " success: True\n",
      "       x: array([ -2.22044605e-16,   4.44089210e-16])\n"
     ]
    }
   ],
   "source": [
    "# 某、参考にしたサンプル実装\n",
    "\n",
    "def objectiveFunction(x):\n",
    "    # 目的関数\n",
    "    # f(x,y) = 3*x1^2 + 2*x1*x2 + x2^2\n",
    "    f = 3*x[0]**2 + 2*x[0]*x[1] + x[1]**2\n",
    "    return f\n",
    "\n",
    "def gradient(x):\n",
    "    # 勾配ベクトル\n",
    "    g = np.array([6*x[0] + 2*x[1], 2*x[0] + 2*x[1]])\n",
    "    return g\n",
    "\n",
    "def Hessian(x):\n",
    "    # ヘッセ行列\n",
    "    h = np.array([[6, 2], [2, 2]])\n",
    "    return h\n",
    "\n",
    "x0 = [10.0, 10.0]\n",
    "res = minimize(objectiveFunction, x0, jac=gradient, hess=Hessian, method=\"trust-ncg\")\n",
    "print(res)"
   ]
  },
  {
   "cell_type": "code",
   "execution_count": 5,
   "metadata": {
    "collapsed": false
   },
   "outputs": [
    {
     "name": "stdout",
     "output_type": "stream",
     "text": [
      "     fun: 1.4791141972893971e-31\n",
      "    hess: array([[6, 2],\n",
      "       [2, 2]])\n",
      "     jac: array([ -4.44089210e-16,   4.44089210e-16])\n",
      " message: 'Optimization terminated successfully.'\n",
      "    nfev: 6\n",
      "    nhev: 5\n",
      "     nit: 5\n",
      "    njev: 6\n",
      "  status: 0\n",
      " success: True\n",
      "       x: array([ -2.22044605e-16,   4.44089210e-16])\n"
     ]
    }
   ],
   "source": [
    "def Objective(x, y):\n",
    "    f = 3*x**2 + 2*x*y + y**2\n",
    "    return f\n",
    "\n",
    "def Gradient(x, y):\n",
    "    g = np.array([6*x + 2*y, 2*x + 2*y])\n",
    "    return g\n",
    "\n",
    "def Hessian(x, y):\n",
    "    h = np.array([[6, 2], [2, 2]])\n",
    "    return h\n",
    "\n",
    "x0 = [10.0, 10.0]\n",
    "res = minimize(lambda args: Objective(*args), x0,\n",
    "               jac=lambda args: Gradient(*args),\n",
    "               hess=lambda args: Hessian(*args), method=\"trust-ncg\")\n",
    "print(res)"
   ]
  }
 ],
 "metadata": {
  "kernelspec": {
   "display_name": "Python 3",
   "language": "python",
   "name": "python3"
  },
  "language_info": {
   "codemirror_mode": {
    "name": "ipython",
    "version": 3
   },
   "file_extension": ".py",
   "mimetype": "text/x-python",
   "name": "python",
   "nbconvert_exporter": "python",
   "pygments_lexer": "ipython3",
   "version": "3.5.2"
  }
 },
 "nbformat": 4,
 "nbformat_minor": 0
}
