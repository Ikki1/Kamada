{
 "cells": [
  {
   "cell_type": "code",
   "execution_count": null,
   "metadata": {
    "collapsed": false
   },
   "outputs": [],
   "source": [
    "from sympy import *\n",
    "init_printing()\n",
    "from nbsupport import md"
   ]
  },
  {
   "cell_type": "code",
   "execution_count": null,
   "metadata": {
    "collapsed": false,
    "scrolled": true
   },
   "outputs": [],
   "source": [
    "# The dimension of the visualization: choose 2 or 3 for 2D/3D visualization, respectively.\n",
    "dimension = 2\n",
    "\n",
    "# k: Strength of the spring (Hook's Law)\n",
    "# l: Natural length of the spring\n",
    "k_ij, l_ij = [Symbol(s, real=True, positive=True)\n",
    "        for s in 'k_{ij} l_{ij}'.split()]\n",
    "\n",
    "# p, q: i'th and j'th points connected by the spring (k_ij, l_ij)\n",
    "p, q = [Matrix([Symbol(v + '_' + str(i), real=True)\n",
    "                for i in range(dimension)])\n",
    "        for v in 'p q'.split()]\n",
    "md('**p**: $', p, '$')\n",
    "md('**q**: $', q, '$')\n",
    "\n",
    "# The actual length of the spring is the distance between points p and q\n",
    "length = (p-q).norm()\n",
    "md('**length**: $', length, '$')\n",
    "\n",
    "# The potential energy as given by Hook's Law and its derivatives\n",
    "potential = k_ij * (length - l_ij) ** 2 / 2\n",
    "potential_d = Matrix([diff(potential, z) for z in p])\n",
    "potential_dd = hessian(potential, p)\n",
    "\n",
    "# Collect all the derivatives for convenience\n",
    "potentials = [Matrix([potential]), potential_d, potential_dd]\n",
    "\n",
    "def show_potentials(potentials):\n",
    "    for i, p in zip(range(len(potentials)), potentials):\n",
    "        md('**Potential**$_', i, '$: $$', p, '$$')\n",
    "        md('-----')\n",
    "\n",
    "show_potentials(potentials)"
   ]
  },
  {
   "cell_type": "code",
   "execution_count": null,
   "metadata": {
    "collapsed": false
   },
   "outputs": [],
   "source": [
    "substitution1 = [(length, Symbol('l', real=True, positive=True))]\n",
    "\n",
    "potentials = [p.subs(substitution1) for p in potentials]\n",
    "\n",
    "show_potentials(potentials)"
   ]
  },
  {
   "cell_type": "code",
   "execution_count": null,
   "metadata": {
    "collapsed": false
   },
   "outputs": [],
   "source": [
    "substitution2 = [((p-q)[i], Symbol(r'\\vec{pq_' + str(i) + '}')) for i in range(dimension)]\n",
    "substitution2 = [((p-q)[i], Symbol('l_{0}'.format(i))) for i in range(dimension)]\n",
    "\n",
    "potentials = [p.subs(substitution2) for p in potentials]\n",
    "\n",
    "show_potentials(potentials)"
   ]
  },
  {
   "cell_type": "code",
   "execution_count": null,
   "metadata": {
    "collapsed": false
   },
   "outputs": [],
   "source": [
    "from sympy.utilities.lambdify import lambdastr\n",
    "\n",
    "formula = potentials[2][0, 1]\n",
    "\n",
    "params = var('k hl l l0 l1')\n",
    "md('$$', formula, l, params, '$$')\n",
    "\n",
    "lambdastr(tuple(params), formula)"
   ]
  },
  {
   "cell_type": "code",
   "execution_count": null,
   "metadata": {
    "collapsed": true
   },
   "outputs": [],
   "source": []
  }
 ],
 "metadata": {
  "kernelspec": {
   "display_name": "Python 3",
   "language": "python",
   "name": "python3"
  },
  "language_info": {
   "codemirror_mode": {
    "name": "ipython",
    "version": 3
   },
   "file_extension": ".py",
   "mimetype": "text/x-python",
   "name": "python",
   "nbconvert_exporter": "python",
   "pygments_lexer": "ipython3",
   "version": "3.4.4"
  },
  "nav_menu": {},
  "toc": {
   "navigate_menu": true,
   "number_sections": true,
   "sideBar": true,
   "threshold": 6,
   "toc_cell": false,
   "toc_section_display": "block",
   "toc_window_display": false
  }
 },
 "nbformat": 4,
 "nbformat_minor": 0
}
