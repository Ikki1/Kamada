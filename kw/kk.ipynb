{
 "cells": [
  {
   "cell_type": "code",
   "execution_count": null,
   "metadata": {
    "collapsed": false
   },
   "outputs": [],
   "source": [
    "import sympy as sp\n",
    "import numpy as np\n",
    "sp.init_printing()\n",
    "from nbsupport import md"
   ]
  },
  {
   "cell_type": "code",
   "execution_count": null,
   "metadata": {
    "collapsed": false,
    "scrolled": true
   },
   "outputs": [],
   "source": [
    "# The dimension of the visualization: choose 2 or 3 for 2D/3D visualization, respectively.\n",
    "dimension = 2\n",
    "\n",
    "# k: Strength of the spring (Hook's Law)\n",
    "# l: Natural length of the spring\n",
    "k_ij, l_ij = [sp.Symbol(s, real=True, positive=True)\n",
    "        for s in r'\\bar{k_{ij}} \\bar{\\ell_{ij}}'.split()]\n",
    "\n",
    "# p, q: i'th and j'th points connected by the spring (k_ij, l_ij)\n",
    "p, q = [sp.Matrix([sp.Symbol(v + '_' + str(i), real=True) for i in range(dimension)])\n",
    "        for v in 'p q'.split()]\n",
    "md('**p**: $', p, '$')\n",
    "md('**q**: $', q, '$')\n",
    "\n",
    "# The actual length of the spring is the distance between points p and q\n",
    "length = (p - q).norm()\n",
    "md('**The actual spring length**: $', length, '$')\n",
    "\n",
    "# The potential energy as given by Hook's Law and its derivatives\n",
    "potential = k_ij * (length - l_ij) ** 2 / 2\n",
    "potential_d = sp.Matrix([potential.diff(x) for x in p])\n",
    "potential_dd = sp.hessian(potential, p)\n",
    "\n",
    "# Collect all the derivatives for convenience\n",
    "potentials = [sp.Matrix([potential]), potential_d, potential_dd]\n",
    "\n",
    "def show_potentials(potentials):\n",
    "    for i, p in zip(range(len(potentials)), potentials):\n",
    "        md('$$\\mathbf {Potential}', \"'\" * i, ': ', p, '$$')\n",
    "        md('-----')\n",
    "\n",
    "show_potentials(potentials)"
   ]
  },
  {
   "cell_type": "code",
   "execution_count": null,
   "metadata": {
    "collapsed": false
   },
   "outputs": [],
   "source": [
    "substitution1 = [(length, sp.Symbol(r'\\ell', real=True, positive=True))]\n",
    "potentials = [p.subs(substitution1) for p in potentials]\n",
    "\n",
    "show_potentials(potentials)"
   ]
  },
  {
   "cell_type": "code",
   "execution_count": null,
   "metadata": {
    "collapsed": false
   },
   "outputs": [],
   "source": [
    "substitution2 = [((p-q)[i], sp.Symbol('d_' + str(i))) for i in range(dimension)]\n",
    "\n",
    "potentials = [p.subs(substitution2) for p in potentials]\n",
    "\n",
    "show_potentials(potentials)"
   ]
  },
  {
   "cell_type": "code",
   "execution_count": null,
   "metadata": {
    "collapsed": false
   },
   "outputs": [],
   "source": [
    "from sympy.utilities.lambdify import lambdastr\n",
    "\n",
    "math_symbols = [k_ij, l_ij] + [v for (_, v) in substitution1 + substitution2]\n",
    "func_symbols = sp.var('kij lij l dx dy')\n",
    "func_substitution = list(zip(math_symbols, func_symbols))\n",
    "\n",
    "for potential in potentials:\n",
    "    print(lambdastr(tuple(func_symbols), potential.subs(func_substitution)))"
   ]
  },
  {
   "cell_type": "code",
   "execution_count": null,
   "metadata": {
    "collapsed": true
   },
   "outputs": [],
   "source": []
  }
 ],
 "metadata": {
  "kernelspec": {
   "display_name": "Python 3",
   "language": "python",
   "name": "python3"
  },
  "language_info": {
   "codemirror_mode": {
    "name": "ipython",
    "version": 3
   },
   "file_extension": ".py",
   "mimetype": "text/x-python",
   "name": "python",
   "nbconvert_exporter": "python",
   "pygments_lexer": "ipython3",
   "version": "3.4.4"
  },
  "nav_menu": {},
  "toc": {
   "navigate_menu": true,
   "number_sections": true,
   "sideBar": true,
   "threshold": 6,
   "toc_cell": false,
   "toc_section_display": "block",
   "toc_window_display": false
  }
 },
 "nbformat": 4,
 "nbformat_minor": 0
}
