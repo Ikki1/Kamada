{
 "cells": [
  {
   "cell_type": "code",
   "execution_count": 1,
   "metadata": {
    "collapsed": false
   },
   "outputs": [],
   "source": [
    "from functools import reduce\n",
    "import sympy as sp\n",
    "from sympy import oo\n",
    "import numpy as np\n",
    "sp.init_printing()\n",
    "from nbsupport import md\n",
    "\n",
    "from itertools import chain\n",
    "def display_substitution(substitution):\n",
    "    md('$', *chain.from_iterable([[v, r'\\mapsto ', e, r'\\quad '] for v, e in substitution]), '$')"
   ]
  },
  {
   "cell_type": "code",
   "execution_count": 2,
   "metadata": {
    "collapsed": false,
    "scrolled": true
   },
   "outputs": [
    {
     "data": {
      "text/markdown": [
       "Locations of the vertices $\\boldsymbol{p}$ and $\\boldsymbol{q}$: $\\left[\\begin{matrix}p_{0}\\\\p_{1}\\end{matrix}\\right], \\left[\\begin{matrix}q_{0}\\\\q_{1}\\end{matrix}\\right]$"
      ]
     },
     "metadata": {},
     "output_type": "display_data"
    },
    {
     "data": {
      "text/markdown": [
       "**The actual length of the spring**: $\\sqrt{\\left(p_{0} - q_{0}\\right)^{2} + \\left(p_{1} - q_{1}\\right)^{2}}$"
      ]
     },
     "metadata": {},
     "output_type": "display_data"
    },
    {
     "data": {
      "text/markdown": [
       "$$\\mathbf {Potential}: \\left[\\begin{matrix}\\frac{\\bar{k_{ij}}}{2} \\left(- \\bar{\\ell_{ij}} + \\sqrt{\\left(p_{0} - q_{0}\\right)^{2} + \\left(p_{1} - q_{1}\\right)^{2}}\\right)^{2}\\end{matrix}\\right]$$"
      ]
     },
     "metadata": {},
     "output_type": "display_data"
    },
    {
     "data": {
      "text/markdown": [
       "-----"
      ]
     },
     "metadata": {},
     "output_type": "display_data"
    },
    {
     "data": {
      "text/markdown": [
       "$$\\mathbf {Potential}': \\left[\\begin{matrix}\\frac{\\bar{k_{ij}} \\left(- \\bar{\\ell_{ij}} + \\sqrt{\\left(p_{0} - q_{0}\\right)^{2} + \\left(p_{1} - q_{1}\\right)^{2}}\\right) \\left(p_{0} - q_{0}\\right)}{\\sqrt{\\left(p_{0} - q_{0}\\right)^{2} + \\left(p_{1} - q_{1}\\right)^{2}}}\\\\\\frac{\\bar{k_{ij}} \\left(- \\bar{\\ell_{ij}} + \\sqrt{\\left(p_{0} - q_{0}\\right)^{2} + \\left(p_{1} - q_{1}\\right)^{2}}\\right) \\left(p_{1} - q_{1}\\right)}{\\sqrt{\\left(p_{0} - q_{0}\\right)^{2} + \\left(p_{1} - q_{1}\\right)^{2}}}\\end{matrix}\\right]$$"
      ]
     },
     "metadata": {},
     "output_type": "display_data"
    },
    {
     "data": {
      "text/markdown": [
       "-----"
      ]
     },
     "metadata": {},
     "output_type": "display_data"
    },
    {
     "data": {
      "text/markdown": [
       "$$\\mathbf {Potential}'': \\left[\\begin{matrix}\\frac{\\bar{k_{ij}}}{\\left(\\left(p_{0} - q_{0}\\right)^{2} + \\left(p_{1} - q_{1}\\right)^{2}\\right)^{\\frac{3}{2}}} \\left(- \\bar{\\ell_{ij}} + \\sqrt{\\left(p_{0} - q_{0}\\right)^{2} + \\left(p_{1} - q_{1}\\right)^{2}}\\right) \\left(- p_{0} + q_{0}\\right) \\left(p_{0} - q_{0}\\right) + \\frac{\\bar{k_{ij}} \\left(- \\bar{\\ell_{ij}} + \\sqrt{\\left(p_{0} - q_{0}\\right)^{2} + \\left(p_{1} - q_{1}\\right)^{2}}\\right)}{\\sqrt{\\left(p_{0} - q_{0}\\right)^{2} + \\left(p_{1} - q_{1}\\right)^{2}}} + \\frac{\\bar{k_{ij}} \\left(p_{0} - q_{0}\\right)^{2}}{\\left(p_{0} - q_{0}\\right)^{2} + \\left(p_{1} - q_{1}\\right)^{2}} & \\frac{\\bar{k_{ij}}}{\\left(\\left(p_{0} - q_{0}\\right)^{2} + \\left(p_{1} - q_{1}\\right)^{2}\\right)^{\\frac{3}{2}}} \\left(- \\bar{\\ell_{ij}} + \\sqrt{\\left(p_{0} - q_{0}\\right)^{2} + \\left(p_{1} - q_{1}\\right)^{2}}\\right) \\left(p_{0} - q_{0}\\right) \\left(- p_{1} + q_{1}\\right) + \\frac{\\bar{k_{ij}} \\left(p_{0} - q_{0}\\right) \\left(p_{1} - q_{1}\\right)}{\\left(p_{0} - q_{0}\\right)^{2} + \\left(p_{1} - q_{1}\\right)^{2}}\\\\\\frac{\\bar{k_{ij}}}{\\left(\\left(p_{0} - q_{0}\\right)^{2} + \\left(p_{1} - q_{1}\\right)^{2}\\right)^{\\frac{3}{2}}} \\left(- \\bar{\\ell_{ij}} + \\sqrt{\\left(p_{0} - q_{0}\\right)^{2} + \\left(p_{1} - q_{1}\\right)^{2}}\\right) \\left(p_{0} - q_{0}\\right) \\left(- p_{1} + q_{1}\\right) + \\frac{\\bar{k_{ij}} \\left(p_{0} - q_{0}\\right) \\left(p_{1} - q_{1}\\right)}{\\left(p_{0} - q_{0}\\right)^{2} + \\left(p_{1} - q_{1}\\right)^{2}} & \\frac{\\bar{k_{ij}}}{\\left(\\left(p_{0} - q_{0}\\right)^{2} + \\left(p_{1} - q_{1}\\right)^{2}\\right)^{\\frac{3}{2}}} \\left(- \\bar{\\ell_{ij}} + \\sqrt{\\left(p_{0} - q_{0}\\right)^{2} + \\left(p_{1} - q_{1}\\right)^{2}}\\right) \\left(- p_{1} + q_{1}\\right) \\left(p_{1} - q_{1}\\right) + \\frac{\\bar{k_{ij}} \\left(- \\bar{\\ell_{ij}} + \\sqrt{\\left(p_{0} - q_{0}\\right)^{2} + \\left(p_{1} - q_{1}\\right)^{2}}\\right)}{\\sqrt{\\left(p_{0} - q_{0}\\right)^{2} + \\left(p_{1} - q_{1}\\right)^{2}}} + \\frac{\\bar{k_{ij}} \\left(p_{1} - q_{1}\\right)^{2}}{\\left(p_{0} - q_{0}\\right)^{2} + \\left(p_{1} - q_{1}\\right)^{2}}\\end{matrix}\\right]$$"
      ]
     },
     "metadata": {},
     "output_type": "display_data"
    },
    {
     "data": {
      "text/markdown": [
       "-----"
      ]
     },
     "metadata": {},
     "output_type": "display_data"
    }
   ],
   "source": [
    "# The dimension of the visualization: choose 2 or 3 for 2D/3D visualization, respectively.\n",
    "dimension = 2\n",
    "\n",
    "# k: Strength of the spring (Hook's Law)\n",
    "# l: Natural length of the spring\n",
    "k_ij, l_ij = [sp.Symbol(s, real=True, positive=True)\n",
    "        for s in r'\\bar{k_{ij}} \\bar{\\ell_{ij}}'.split()]\n",
    "\n",
    "# p, q: i'th and j'th points connected by the spring (k_ij, l_ij)\n",
    "p, q = [sp.Matrix([sp.Symbol(v + '_' + str(i), real=True) for i in range(dimension)])\n",
    "        for v in 'p q'.split()]\n",
    "md(r'Locations of the vertices $\\boldsymbol{p}$ and $\\boldsymbol{q}$: $', p, ', ', q, '$')\n",
    "\n",
    "# The actual length of the spring is the distance between points p and q\n",
    "length = (p - q).norm()\n",
    "md('**The actual length of the spring**: $', length, '$')\n",
    "\n",
    "# The potential energy as given by Hook's Law and its derivatives\n",
    "potential = k_ij * (length - l_ij) ** 2 / 2\n",
    "potential_d = sp.Matrix([potential.diff(x) for x in p])\n",
    "potential_dd = sp.hessian(potential, p)\n",
    "\n",
    "# Collect all the derivatives for convenience\n",
    "potentials = [sp.Matrix([potential]), potential_d, potential_dd]\n",
    "\n",
    "def display_potentials(potentials):\n",
    "    for i, p in zip(range(len(potentials)), potentials):\n",
    "        md('$$\\mathbf {Potential}', \"'\" * i, ': ', p, '$$')\n",
    "        md('-----')\n",
    "\n",
    "display_potentials(potentials)"
   ]
  },
  {
   "cell_type": "code",
   "execution_count": 3,
   "metadata": {
    "collapsed": false
   },
   "outputs": [
    {
     "data": {
      "text/markdown": [
       "$$\\mathbf {Potential}: \\left[\\begin{matrix}\\frac{\\bar{k_{ij}} x_{6}^{2}}{2}\\end{matrix}\\right]$$"
      ]
     },
     "metadata": {},
     "output_type": "display_data"
    },
    {
     "data": {
      "text/markdown": [
       "-----"
      ]
     },
     "metadata": {},
     "output_type": "display_data"
    },
    {
     "data": {
      "text/markdown": [
       "$$\\mathbf {Potential}': \\left[\\begin{matrix}x_{0} x_{7}\\\\x_{2} x_{7}\\end{matrix}\\right]$$"
      ]
     },
     "metadata": {},
     "output_type": "display_data"
    },
    {
     "data": {
      "text/markdown": [
       "-----"
      ]
     },
     "metadata": {},
     "output_type": "display_data"
    },
    {
     "data": {
      "text/markdown": [
       "$$\\mathbf {Potential}'': \\left[\\begin{matrix}x_{1} x_{8} + x_{10} \\left(- p_{0} + q_{0}\\right) + x_{7} & x_{12}\\\\x_{12} & \\bar{k_{ij}} x_{11} x_{2} x_{6} x_{9} + x_{3} x_{8} + x_{7}\\end{matrix}\\right]$$"
      ]
     },
     "metadata": {},
     "output_type": "display_data"
    },
    {
     "data": {
      "text/markdown": [
       "-----"
      ]
     },
     "metadata": {},
     "output_type": "display_data"
    },
    {
     "data": {
      "text/markdown": [
       "$x_{0}\\mapsto p_{0} - q_{0}\\quad x_{1}\\mapsto \\left(p_{0} - q_{0}\\right)^{2}\\quad x_{2}\\mapsto p_{1} - q_{1}\\quad x_{3}\\mapsto \\left(p_{1} - q_{1}\\right)^{2}\\quad x_{4}\\mapsto \\left(p_{0} - q_{0}\\right)^{2} + \\left(p_{1} - q_{1}\\right)^{2}\\quad x_{5}\\mapsto \\sqrt{\\left(p_{0} - q_{0}\\right)^{2} + \\left(p_{1} - q_{1}\\right)^{2}}\\quad x_{6}\\mapsto - \\bar{\\ell_{ij}} + \\sqrt{\\left(p_{0} - q_{0}\\right)^{2} + \\left(p_{1} - q_{1}\\right)^{2}}\\quad x_{7}\\mapsto \\frac{\\bar{k_{ij}} \\left(- \\bar{\\ell_{ij}} + \\sqrt{\\left(p_{0} - q_{0}\\right)^{2} + \\left(p_{1} - q_{1}\\right)^{2}}\\right)}{\\sqrt{\\left(p_{0} - q_{0}\\right)^{2} + \\left(p_{1} - q_{1}\\right)^{2}}}\\quad x_{8}\\mapsto \\frac{\\bar{k_{ij}}}{\\left(p_{0} - q_{0}\\right)^{2} + \\left(p_{1} - q_{1}\\right)^{2}}\\quad x_{9}\\mapsto \\frac{1}{\\left(\\left(p_{0} - q_{0}\\right)^{2} + \\left(p_{1} - q_{1}\\right)^{2}\\right)^{\\frac{3}{2}}}\\quad x_{10}\\mapsto \\frac{\\bar{k_{ij}} \\left(- \\bar{\\ell_{ij}} + \\sqrt{\\left(p_{0} - q_{0}\\right)^{2} + \\left(p_{1} - q_{1}\\right)^{2}}\\right) \\left(p_{0} - q_{0}\\right)}{\\left(\\left(p_{0} - q_{0}\\right)^{2} + \\left(p_{1} - q_{1}\\right)^{2}\\right)^{\\frac{3}{2}}}\\quad x_{11}\\mapsto - p_{1} + q_{1}\\quad x_{12}\\mapsto \\frac{\\bar{k_{ij}}}{\\left(\\left(p_{0} - q_{0}\\right)^{2} + \\left(p_{1} - q_{1}\\right)^{2}\\right)^{\\frac{3}{2}}} \\left(- \\bar{\\ell_{ij}} + \\sqrt{\\left(p_{0} - q_{0}\\right)^{2} + \\left(p_{1} - q_{1}\\right)^{2}}\\right) \\left(p_{0} - q_{0}\\right) \\left(- p_{1} + q_{1}\\right) + \\frac{\\bar{k_{ij}} \\left(p_{0} - q_{0}\\right) \\left(p_{1} - q_{1}\\right)}{\\left(p_{0} - q_{0}\\right)^{2} + \\left(p_{1} - q_{1}\\right)^{2}}\\quad $"
      ]
     },
     "metadata": {},
     "output_type": "display_data"
    }
   ],
   "source": [
    "from sympy.simplify.cse_main import cse\n",
    "cse_result = cse_substitution, eliminated = cse(potentials)\n",
    "display_potentials(eliminated)\n",
    "\n",
    "def expand_cse_substitution(cse_substitution):\n",
    "    substitution = []\n",
    "    for v, e in cse_substitution:\n",
    "        substitution.append((v, e.subs(substitution)))\n",
    "    return substitution\n",
    "\n",
    "display_substitution(expand_cse_substitution(cse_substitution))\n",
    "\n",
    "def pick_cse(proposed_substitution, *args):\n",
    "    proposed_substitution = expand_cse_substitution(proposed_substitution)\n",
    "    cse_substitution, lambda_substitution = [], []\n",
    "    for i, v1, v2 in args:\n",
    "        _, e = proposed_substitution[i]\n",
    "        cse_substitution.append((e, sp.Symbol(v1)))\n",
    "        if v2:\n",
    "            lambda_substitution.append((sp.Symbol(v1), sp.Symbol(v2)))\n",
    "    return cse_substitution, lambda_substitution"
   ]
  },
  {
   "cell_type": "code",
   "execution_count": 4,
   "metadata": {
    "collapsed": false
   },
   "outputs": [
    {
     "data": {
      "text/markdown": [
       "$- \\bar{\\ell_{ij}} + \\sqrt{\\left(p_{0} - q_{0}\\right)^{2} + \\left(p_{1} - q_{1}\\right)^{2}}\\mapsto \\Delta\\ell{}\\quad \\sqrt{\\left(p_{0} - q_{0}\\right)^{2} + \\left(p_{1} - q_{1}\\right)^{2}}\\mapsto r\\quad p_{1} - q_{1}\\mapsto r_{1}\\quad p_{0} - q_{0}\\mapsto r_{0}\\quad $"
      ]
     },
     "metadata": {},
     "output_type": "display_data"
    },
    {
     "data": {
      "text/markdown": [
       "$$\\mathbf {Potential}: \\left[\\begin{matrix}\\frac{\\Delta\\ell{}^{2} \\bar{k_{ij}}}{2}\\end{matrix}\\right]$$"
      ]
     },
     "metadata": {},
     "output_type": "display_data"
    },
    {
     "data": {
      "text/markdown": [
       "-----"
      ]
     },
     "metadata": {},
     "output_type": "display_data"
    },
    {
     "data": {
      "text/markdown": [
       "$$\\mathbf {Potential}': \\left[\\begin{matrix}\\frac{\\Delta\\ell{} r_{0}}{r} \\bar{k_{ij}}\\\\\\frac{\\Delta\\ell{} r_{1}}{r} \\bar{k_{ij}}\\end{matrix}\\right]$$"
      ]
     },
     "metadata": {},
     "output_type": "display_data"
    },
    {
     "data": {
      "text/markdown": [
       "-----"
      ]
     },
     "metadata": {},
     "output_type": "display_data"
    },
    {
     "data": {
      "text/markdown": [
       "$$\\mathbf {Potential}'': \\left[\\begin{matrix}\\frac{\\Delta\\ell{} \\bar{k_{ij}}}{r} - \\frac{\\Delta\\ell{} \\bar{k_{ij}}}{r^{3}} r_{0}^{2} + \\frac{\\bar{k_{ij}} r_{0}^{2}}{r^{2}} & - \\frac{\\Delta\\ell{} r_{0}}{r^{3}} \\bar{k_{ij}} r_{1} + \\frac{r_{0} r_{1}}{r^{2}} \\bar{k_{ij}}\\\\- \\frac{\\Delta\\ell{} r_{0}}{r^{3}} \\bar{k_{ij}} r_{1} + \\frac{r_{0} r_{1}}{r^{2}} \\bar{k_{ij}} & \\frac{\\Delta\\ell{} \\bar{k_{ij}}}{r} - \\frac{\\Delta\\ell{} \\bar{k_{ij}}}{r^{3}} r_{1}^{2} + \\frac{\\bar{k_{ij}} r_{1}^{2}}{r^{2}}\\end{matrix}\\right]$$"
      ]
     },
     "metadata": {},
     "output_type": "display_data"
    },
    {
     "data": {
      "text/markdown": [
       "-----"
      ]
     },
     "metadata": {},
     "output_type": "display_data"
    }
   ],
   "source": [
    "cse_substitution, lambda_substitution = pick_cse(\n",
    "    expand_cse_substitution(cse_substitution),\n",
    "    (6, r'\\Delta\\ell{}', 'l'), (5, 'r', None), (2, 'r1', None), (0, 'r0', None))\n",
    "display_substitution(cse_substitution)\n",
    "\n",
    "potentials = [p.subs(cse_substitution) for p in potentials]\n",
    "display_potentials(potentials)"
   ]
  },
  {
   "cell_type": "code",
   "execution_count": 5,
   "metadata": {
    "collapsed": false
   },
   "outputs": [
    {
     "data": {
      "text/markdown": [
       "**Free symbols**: $\\left ( r, \\quad r_{1}, \\quad \\bar{k_{ij}}, \\quad \\Delta\\ell{}, \\quad r_{0}\\right )$"
      ]
     },
     "metadata": {},
     "output_type": "display_data"
    },
    {
     "data": {
      "text/markdown": [
       "**Computed symbols**: $\\left ( \\Delta\\ell{}, \\quad r_{1}, \\quad r, \\quad r_{0}\\right )$"
      ]
     },
     "metadata": {},
     "output_type": "display_data"
    },
    {
     "data": {
      "text/markdown": [
       "**Given symbols**: $\\left ( \\bar{k_{ij}}\\right )$"
      ]
     },
     "metadata": {},
     "output_type": "display_data"
    },
    {
     "data": {
      "text/markdown": [
       "**Substitution applied before code generation**:"
      ]
     },
     "metadata": {},
     "output_type": "display_data"
    },
    {
     "data": {
      "text/markdown": [
       "$\\bar{k_{ij}}\\mapsto kij\\quad \\Delta\\ell{}\\mapsto l\\quad $"
      ]
     },
     "metadata": {},
     "output_type": "display_data"
    },
    {
     "data": {
      "text/markdown": [
       "$$\\mathbf {Potential}: \\left[\\begin{matrix}\\frac{kij l^{2}}{2}\\end{matrix}\\right]$$"
      ]
     },
     "metadata": {},
     "output_type": "display_data"
    },
    {
     "data": {
      "text/markdown": [
       "-----"
      ]
     },
     "metadata": {},
     "output_type": "display_data"
    },
    {
     "data": {
      "text/markdown": [
       "$$\\mathbf {Potential}': \\left[\\begin{matrix}\\frac{kij l}{r} r_{0}\\\\\\frac{kij l}{r} r_{1}\\end{matrix}\\right]$$"
      ]
     },
     "metadata": {},
     "output_type": "display_data"
    },
    {
     "data": {
      "text/markdown": [
       "-----"
      ]
     },
     "metadata": {},
     "output_type": "display_data"
    },
    {
     "data": {
      "text/markdown": [
       "$$\\mathbf {Potential}'': \\left[\\begin{matrix}\\frac{kij l}{r} - \\frac{kij l}{r^{3}} r_{0}^{2} + \\frac{kij r_{0}^{2}}{r^{2}} & - \\frac{kij l}{r^{3}} r_{0} r_{1} + \\frac{kij r_{0}}{r^{2}} r_{1}\\\\- \\frac{kij l}{r^{3}} r_{0} r_{1} + \\frac{kij r_{0}}{r^{2}} r_{1} & \\frac{kij l}{r} - \\frac{kij l}{r^{3}} r_{1}^{2} + \\frac{kij r_{1}^{2}}{r^{2}}\\end{matrix}\\right]$$"
      ]
     },
     "metadata": {},
     "output_type": "display_data"
    },
    {
     "data": {
      "text/markdown": [
       "-----"
      ]
     },
     "metadata": {},
     "output_type": "display_data"
    },
    {
     "name": "stdout",
     "output_type": "stream",
     "text": [
      "lambda r,r1,kij,l,r0: (kij*l**2/2)\n",
      "lambda r,r1,kij,l,r0: (kij*l*r0/r)\n",
      "lambda r,r1,kij,l,r0: (kij*l*r1/r)\n",
      "lambda r,r1,kij,l,r0: (kij*l/r - kij*l*r0**2/r**3 + kij*r0**2/r**2)\n",
      "lambda r,r1,kij,l,r0: (-kij*l*r0*r1/r**3 + kij*r0*r1/r**2)\n",
      "lambda r,r1,kij,l,r0: (-kij*l*r0*r1/r**3 + kij*r0*r1/r**2)\n",
      "lambda r,r1,kij,l,r0: (kij*l/r - kij*l*r1**2/r**3 + kij*r1**2/r**2)\n"
     ]
    }
   ],
   "source": [
    "from sympy.utilities.lambdify import lambdastr\n",
    "\n",
    "def free_symbols(potentials):\n",
    "    free = set()\n",
    "    for potential in potentials:\n",
    "        free = free.union(potential.atoms(sp.Symbol))\n",
    "    return free\n",
    "\n",
    "computed_symbols = set([v for (e, v) in cse_substitution])\n",
    "\n",
    "free_symbols = reduce(lambda s1, s2: s1.union(s2),\n",
    "                      [potential.atoms(sp.Symbol) for potential in potentials], set())\n",
    "\n",
    "md('**Free symbols**: $', tuple(free_symbols), '$')\n",
    "md('**Computed symbols**: $', tuple(computed_symbols), '$')\n",
    "md('**Given symbols**: $', tuple(free_symbols.difference(computed_symbols)), '$')\n",
    "\n",
    "given_substitution = [(k_ij, sp.Symbol('kij'))]\n",
    "\n",
    "md('**Substitution applied before code generation**:')\n",
    "substitution = given_substitution + lambda_substitution\n",
    "display_substitution(substitution)\n",
    "\n",
    "potentials = [potential.subs(substitution) for potential in potentials]\n",
    "display_potentials(potentials)\n",
    "free_symbols = [s.subs(substitution) for s in free_symbols]\n",
    "\n",
    "for potential in potentials:\n",
    "    for e in potential:\n",
    "        print(lambdastr(tuple(free_symbols), e.subs(substitution)))"
   ]
  },
  {
   "cell_type": "code",
   "execution_count": null,
   "metadata": {
    "collapsed": true
   },
   "outputs": [],
   "source": []
  }
 ],
 "metadata": {
  "kernelspec": {
   "display_name": "Python 3",
   "language": "python",
   "name": "python3"
  },
  "language_info": {
   "codemirror_mode": {
    "name": "ipython",
    "version": 3
   },
   "file_extension": ".py",
   "mimetype": "text/x-python",
   "name": "python",
   "nbconvert_exporter": "python",
   "pygments_lexer": "ipython3",
   "version": "3.5.1"
  },
  "nav_menu": {},
  "toc": {
   "navigate_menu": true,
   "number_sections": true,
   "sideBar": true,
   "threshold": 6,
   "toc_cell": false,
   "toc_section_display": "block",
   "toc_window_display": false
  }
 },
 "nbformat": 4,
 "nbformat_minor": 0
}
